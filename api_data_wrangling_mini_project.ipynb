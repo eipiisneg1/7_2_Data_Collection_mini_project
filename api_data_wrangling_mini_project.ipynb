{
 "cells": [
  {
   "cell_type": "markdown",
   "source": [
    "This exercise will require you to pull some data from https://data.nasdaq.com/ (formerly Quandl API)."
   ],
   "metadata": {
    "pycharm": {
     "name": "#%% md\n"
    }
   }
  },
  {
   "cell_type": "markdown",
   "source": [
    "As a first step, you will need to register a free account on the https://data.nasdaq.com/ website."
   ],
   "metadata": {
    "pycharm": {
     "name": "#%% md\n"
    }
   }
  },
  {
   "cell_type": "markdown",
   "source": [
    "After you register, you will be provided with a unique API key, that you should store:\n",
    "\n",
    "*Note*: Use a `.env` file and put your key in there and `python-dotenv` to access it in this notebook. \n",
    "\n",
    "The code below uses a key that was used when generating this project but has since been deleted. Never submit your keys to source control. There is a `.env-example` file in this repository to illusrtate what you need. Copy that to a file called `.env` and use your own api key in that `.env` file. Make sure you also have a `.gitignore` file with a line for `.env` added to it. \n",
    "\n",
    "The standard Python gitignore is [here](https://github.com/github/gitignore/blob/master/Python.gitignore) you can just copy that. "
   ],
   "metadata": {
    "pycharm": {
     "name": "#%% md\n"
    }
   }
  },
  {
   "cell_type": "code",
   "execution_count": 6,
   "source": [
    "# get api key from your .env file\n",
    "import os\n",
    "from dotenv import load_dotenv\n",
    "\n",
    "load_dotenv()\n",
    "KEY = os.getenv('KEY')\n",
    "\n",
    "print(KEY)"
   ],
   "outputs": [
    {
     "name": "stdout",
     "output_type": "stream",
     "text": [
      "sahUUE2GjnUSHDYGayzp\n"
     ]
    }
   ],
   "metadata": {
    "pycharm": {
     "name": "#%%\n"
    }
   }
  },
  {
   "cell_type": "markdown",
   "source": [
    "Nasdaq Data has a large number of data sources, but, unfortunately, most of them require a Premium subscription. Still, there are also a good number of free datasets."
   ],
   "metadata": {
    "pycharm": {
     "name": "#%% md\n"
    }
   }
  },
  {
   "cell_type": "markdown",
   "source": [
    "For this mini project, we will focus on equities data from the Frankfurt Stock Exhange (FSE), which is available for free. We'll try and analyze the stock prices of a company called Carl Zeiss Meditec, which manufactures tools for eye examinations, as well as medical lasers for laser eye surgery: https://www.zeiss.com/meditec/int/home.html. The company is listed under the stock ticker AFX_X."
   ],
   "metadata": {
    "pycharm": {
     "name": "#%% md\n"
    }
   }
  },
  {
   "cell_type": "markdown",
   "source": [
    "You can find the detailed Nasdaq Data API instructions here: https://docs.data.nasdaq.com/docs/in-depth-usage"
   ],
   "metadata": {
    "pycharm": {
     "name": "#%% md\n"
    }
   }
  },
  {
   "cell_type": "markdown",
   "source": [
    "While there is a dedicated Python package for connecting to the Nasdaq API, we would prefer that you use the *requests* package, which can be easily downloaded using *pip* or *conda*. You can find the documentation for the package here: http://docs.python-requests.org/en/master/ "
   ],
   "metadata": {
    "pycharm": {
     "name": "#%% md\n"
    }
   }
  },
  {
   "cell_type": "markdown",
   "source": [
    "Finally, apart from the *requests* package, you are encouraged to not use any third party Python packages, such as *pandas*, and instead focus on what's available in the Python Standard Library (the *collections* module might come in handy: https://pymotw.com/3/collections/).\n",
    "Also, since you won't have access to DataFrames, you are encouraged to us Python's native data structures - preferably dictionaries, though some questions can also be answered using lists.\n",
    "You can read more on these data structures here: https://docs.python.org/3/tutorial/datastructures.html"
   ],
   "metadata": {
    "pycharm": {
     "name": "#%% md\n"
    }
   }
  },
  {
   "cell_type": "markdown",
   "source": [
    "Keep in mind that the JSON responses you will be getting from the API map almost one-to-one to Python's dictionaries. Unfortunately, they can be very nested, so make sure you read up on indexing dictionaries in the documentation provided above."
   ],
   "metadata": {
    "pycharm": {
     "name": "#%% md\n"
    }
   }
  },
  {
   "cell_type": "markdown",
   "source": [
    "Note: API's can change a bit with each version, for this exercise it is reccomended to use the nasdaq api at `https://data.nasdaq.com/api/v3/`. This is the same api as what used to be quandl so `https://www.quandl.com/api/v3/` should work too.\n",
    "\n",
    "Hint: We are looking for the `AFX_X` data on the `datasets/FSE/` dataset."
   ],
   "metadata": {
    "pycharm": {
     "name": "#%% md\n"
    }
   }
  },
  {
   "cell_type": "code",
   "execution_count": 11,
   "source": [
    "\n",
    "import os\n",
    "from dotenv import load_dotenv\n",
    "import requests\n",
    "import json\n",
    "import pandas as pd\n",
    "import numpy as np\n",
    "import matplotlib.pyplot as plt\n",
    "import seaborn as sns\n",
    "\n",
    "nasdaq_set_up_account = 'https://data.nasdaq.com/account/profile'\n",
    "detailed_nasdaq_api_info = \"https://docs.data.nasdaq.com/docs/in-depth-usage\"\n",
    "company_of_interest = 'https://www.zeiss.com/meditec/int/home.html'\n",
    "\n",
    "load_dotenv()\n",
    "KEY = os.getenv('KEY')\n",
    "\n",
    "\n",
    "url = 'https://data.nasdaq.com/api/v3/' \\\n",
    "      'datasets/FSE/AFX_X.json' \\\n",
    "      '?collapse=Date' \\\n",
    "      '&start_date=2017-01-01' \\\n",
    "      '&end_date=2017-12-31' \\\n",
    "      '&api_key=sahUUE2GjnUSHDYGayzp'\n",
    "\n",
    "\n",
    "# Package the request, send the request and catch the response: r\n",
    "r = requests.get(url)\n",
    "\n",
    "# Decode the JSON data into a dictionary: json_data\n",
    "json_data = r.json()\n",
    "\n",
    "k_info = json_data['dataset']\n",
    "afx_df = pd.DataFrame(k_info['data'], columns=k_info['column_names'])\n",
    "info = afx_df.info()\n",
    "desc = afx_df.describe()\n",
    "\n",
    "print(f'\\n{info}\\n\\n{desc}')"
   ],
   "outputs": [
    {
     "name": "stdout",
     "output_type": "stream",
     "text": [
      "<class 'pandas.core.frame.DataFrame'>\n",
      "RangeIndex: 255 entries, 0 to 254\n",
      "Data columns (total 11 columns):\n",
      " #   Column                 Non-Null Count  Dtype  \n",
      "---  ------                 --------------  -----  \n",
      " 0   Date                   255 non-null    object \n",
      " 1   Open                   252 non-null    float64\n",
      " 2   High                   255 non-null    float64\n",
      " 3   Low                    255 non-null    float64\n",
      " 4   Close                  255 non-null    float64\n",
      " 5   Change                 1 non-null      float64\n",
      " 6   Traded Volume          255 non-null    float64\n",
      " 7   Turnover               255 non-null    float64\n",
      " 8   Last Price of the Day  0 non-null      object \n",
      " 9   Daily Traded Units     0 non-null      object \n",
      " 10  Daily Turnover         0 non-null      object \n",
      "dtypes: float64(7), object(4)\n",
      "memory usage: 22.0+ KB\n",
      "\n",
      "None\n",
      "\n",
      "             Open        High         Low       Close  Change  Traded Volume  \\\n",
      "count  252.000000  255.000000  255.000000  255.000000    1.00     255.000000   \n",
      "mean    43.344206   43.702804   42.924373   43.364157   -0.44   89124.337255   \n",
      "std      4.348585    4.365667    4.267225    4.321755     NaN   60441.130541   \n",
      "min     34.000000   34.120000   33.620000   34.060000   -0.44      45.000000   \n",
      "25%     41.395000   41.580000   41.045000   41.400000   -0.44   56282.000000   \n",
      "50%     43.450000   43.550000   42.620000   43.280000   -0.44   76286.000000   \n",
      "75%     45.857500   46.195000   45.390000   45.850000   -0.44  104479.000000   \n",
      "max     53.110000   53.540000   52.480000   53.090000   -0.44  670349.000000   \n",
      "\n",
      "           Turnover  \n",
      "count  2.550000e+02  \n",
      "mean   3.853589e+06  \n",
      "std    2.517807e+06  \n",
      "min    1.980000e+03  \n",
      "25%    2.388636e+06  \n",
      "50%    3.292223e+06  \n",
      "75%    4.591904e+06  \n",
      "max    2.591054e+07  \n"
     ]
    }
   ],
   "metadata": {
    "pycharm": {
     "name": "#%%\n"
    }
   }
  },
  {
   "cell_type": "markdown",
   "source": [
    "These are your tasks for this mini project:\n",
    "\n",
    "1. Collect data from the Franfurt Stock Exchange, for the ticker AFX_X, for the whole year 2017 (keep in mind that the date format is YYYY-MM-DD).\n",
    "2. Convert the returned JSON object into a Python dictionary.\n",
    "3. Calculate what the highest and lowest opening prices were for the stock in this period.\n",
    "4. What was the largest change in any one day (based on High and Low price)?\n",
    "5. What was the largest change between any two days (based on Closing Price)?\n",
    "6. What was the average daily trading volume during this year?\n",
    "7. (Optional) What was the median trading volume during this year. (Note: you may need to implement your own function for calculating the median.)"
   ],
   "metadata": {
    "pycharm": {
     "name": "#%% md\n"
    }
   }
  },
  {
   "cell_type": "code",
   "execution_count": 11,
   "source": [],
   "outputs": [],
   "metadata": {
    "pycharm": {
     "name": "#%%\n"
    }
   }
  },
  {
   "cell_type": "code",
   "execution_count": 11,
   "source": [],
   "outputs": [],
   "metadata": {
    "pycharm": {
     "name": "#%%\n"
    }
   }
  }
 ],
 "metadata": {
  "kernelspec": {
   "name": "python3",
   "display_name": "Python 3.8.1 64-bit ('dsc_v5_solutions-7Q1D_Dt-': venv)"
  },
  "language_info": {
   "codemirror_mode": {
    "name": "ipython",
    "version": 3
   },
   "file_extension": ".py",
   "mimetype": "text/x-python",
   "name": "python",
   "nbconvert_exporter": "python",
   "pygments_lexer": "ipython3",
   "version": "3.8.1"
  },
  "interpreter": {
   "hash": "7635eb1b9d0fe97add78a7368b6b431c09bb8ad5c42e437d64abdd99821c31ae"
  }
 },
 "nbformat": 4,
 "nbformat_minor": 4
}