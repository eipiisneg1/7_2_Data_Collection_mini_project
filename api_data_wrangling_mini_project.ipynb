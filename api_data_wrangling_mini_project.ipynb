{
 "cells": [
  {
   "cell_type": "code",
   "execution_count": 12,
   "source": [
    "import os\n",
    "from dotenv import load_dotenv\n",
    "import requests\n",
    "import pandas as pd\n",
    "\n",
    "nasdaq_set_up_account = 'https://data.nasdaq.com/account/profile'\n",
    "detailed_nasdaq_api_info = \"https://docs.data.nasdaq.com/docs/in-depth-usage\"\n",
    "company_of_interest = 'https://www.zeiss.com/meditec/int/home.html'\n",
    "\n",
    "load_dotenv()\n",
    "KEY = os.getenv('KEY')\n",
    "\n",
    "\n",
    "def diff(high,low):\n",
    "\treturn high - low\n",
    "\n",
    "\n",
    "def median(a_list):\n",
    "\tif len(a_list) % 2 != 0:\n",
    "\t\treturn a_list[int((len(a_list) + 1) / 2)]\n",
    "\tthe_length = len(a_list)\n",
    "\treturn a_list[the_length + 1] + a_list[the_length -1] /2\n",
    "\n",
    "\n",
    "################################################################################\n",
    "# 1. Collect data from the Franfurt Stock Exchange, for the ticker AFX_X,\n",
    "# for the whole year 2017 (keep in mind that the date format is YYYY-MM-DD).\n",
    "url = 'https://data.nasdaq.com/api/v3/' \\\n",
    "      'datasets/FSE/AFX_X.json' \\\n",
    "      '?collapse=Date' \\\n",
    "      '&start_date=2017-01-01' \\\n",
    "      '&end_date=2017-12-31' \\\n",
    "      '&api_key=sahUUE2GjnUSHDYGayzp'\n",
    "\n",
    "################################################################################\n",
    "# 2. Convert the returned JSON object into a Python dictionary.\n",
    "r = requests.get(url)\n",
    "json_data = r.json()\n",
    "\n",
    "###### Some Preparation ########################################################\n",
    "k_info = json_data['dataset']\n",
    "afx_df = pd.DataFrame(k_info['data'],columns=k_info['column_names'])\n",
    "afx_df.drop(axis=1,inplace=True,columns=['Last Price of the Day',\n",
    "                                         'Daily Traded Units','Daily Turnover'])\n",
    "\n",
    "################################################################################\n",
    "# 3. Calculate what the highest and lowest opening prices were for the stock in\n",
    "# this period.\n",
    "high = afx_df.iloc[afx_df['Open'].idxmax()]['Open']\n",
    "low = afx_df.iloc[afx_df['Open'].idxmin()][\"Open\"]\n",
    "\n",
    "###### DETOUR FOR SOME WRANGLING ###############################################\n",
    "# will not drop this row because the needed information to calculate value was\n",
    "# present, namely the 'Change'\n",
    "change_locale = afx_df[afx_df['Change'].notnull()].index.tolist()\n",
    "fix_one_with_change_value = afx_df.at[change_locale[0],'Open'] = \\\n",
    "\tafx_df.loc[169,'Change'] + afx_df.loc[169,'Close']\n",
    "\n",
    "# will drop the remaining two null rows because losing 2 values in a over 200\n",
    "# with change values less than 1 will not make a large difference\n",
    "open_locale = afx_df[afx_df['Open'].isnull()].index.tolist()\n",
    "afx_df.drop(open_locale,inplace=True)\n",
    "\n",
    "################################################################################\n",
    "# 4. What was the largest change in any one day (based on High and Low price)?\n",
    "afx_df['Change'] = afx_df['Open'] - afx_df['Close']\n",
    "hi_lo = afx_df[['High','Low']]\n",
    "hi_lo['Diff'] = hi_lo[['High','Low']]. \\\n",
    "\tapply(lambda hi_lo: diff(hi_lo['High'],hi_lo['Low']),axis=1)\n",
    "top = hi_lo.iloc[hi_lo.idxmax()['Diff']]\n",
    "largest_difference = afx_df[(afx_df['High'] == top[\"High\"]) & (afx_df['Low'] ==\n",
    "                                                               top[\"Low\"])]\n",
    "################################################################################\n",
    "# 5. What was the largest change between any two days (based on Closing Price)?\n",
    "largest_day_close_diff = afx_df.iloc[afx_df['Close'].diff().idxmax()]\n",
    "l = afx_df['Close'].diff().max()\n",
    "\n",
    "################################################################################\n",
    "# 6. What was the average daily trading volume during this year?\n",
    "avg_volume = afx_df['Traded Volume'].mean()\n",
    "\n",
    "################################################################################\n",
    "# 7. (Optional) What was the median trading volume during this year. (Note: you\n",
    "# may need to implement your own function for calculating the median.)\n",
    "listin_vols = sorted(list(afx_df['Traded Volume']))\n",
    "middle_val_is = median(listin_vols)\n",
    "\n",
    "print(f'3. The highest and lowest opening prices for the stock in this period '\n",
    "      f'were:\\n {high}(high) and {low}(low)\\n\\n'\n",
    "      f'4. The largest change in any one day (based on High and Low price) '\n",
    "      f'was on {largest_difference.iat[0, 0]} and the change was: '\n",
    "      f'{round(top[\"Diff\"], 2)}\\n\\n'\n",
    "      f'5. The largest change between any two days (based on Closing Price) '\n",
    "      f'occurred after close on {afx_df.iloc[99, 0]} and the change at opening'\n",
    "      f' was {round(l, 2)}\\n\\n'\n",
    "      f'6. The average daily traing volume was:\\n{avg_volume}\\n\\n'\n",
    "      f'7. The median trading volume during 2017 was: \\n{middle_val_is}')\n"
   ],
   "outputs": [
    {
     "name": "stdout",
     "output_type": "stream",
     "text": [
      "3. The highest and lowest opening prices for the stock in this period were:\n",
      " 53.11(high) and 34.0(low)\n",
      "\n",
      "4. The largest change in any one day (based on High and Low price) was on 2017-05-11 and the change was: 2.81\n",
      "\n",
      "5. The largest change between any two days (based on Closing Price) occurred after close on 2017-08-08 and the change at opening was 2.56\n",
      "\n",
      "6. The average daily traing volume was:\n",
      "89129.93675889328\n",
      "\n",
      "7. The median trading volume during 2017 was: \n",
      "76286.0\n"
     ]
    },
    {
     "name": "stderr",
     "output_type": "stream",
     "text": [
      "/var/folders/lc/nbgy6kvs4bzdy9cwsd9m4f600000gn/T/ipykernel_8215/513502711.py:68: SettingWithCopyWarning: \n",
      "A value is trying to be set on a copy of a slice from a DataFrame.\n",
      "Try using .loc[row_indexer,col_indexer] = value instead\n",
      "\n",
      "See the caveats in the documentation: https://pandas.pydata.org/pandas-docs/stable/user_guide/indexing.html#returning-a-view-versus-a-copy\n",
      "  hi_lo['Diff'] = hi_lo[['High','Low']]. \\\n"
     ]
    }
   ],
   "metadata": {
    "pycharm": {
     "name": "#%%\n"
    }
   }
  }
 ],
 "metadata": {
  "kernelspec": {
   "name": "python3",
   "display_name": "Python 3.8.1 64-bit ('dsc_v5_solutions-7Q1D_Dt-': venv)"
  },
  "language_info": {
   "codemirror_mode": {
    "name": "ipython",
    "version": 3
   },
   "file_extension": ".py",
   "mimetype": "text/x-python",
   "name": "python",
   "nbconvert_exporter": "python",
   "pygments_lexer": "ipython3",
   "version": "3.8.1"
  },
  "interpreter": {
   "hash": "7635eb1b9d0fe97add78a7368b6b431c09bb8ad5c42e437d64abdd99821c31ae"
  }
 },
 "nbformat": 4,
 "nbformat_minor": 4
}